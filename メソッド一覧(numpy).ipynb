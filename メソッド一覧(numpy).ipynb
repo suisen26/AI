{
  "nbformat": 4,
  "nbformat_minor": 0,
  "metadata": {
    "colab": {
      "provenance": [],
      "authorship_tag": "ABX9TyOlyTZr0oBTf4FmtS8R7X7m",
      "include_colab_link": true
    },
    "kernelspec": {
      "name": "python3",
      "display_name": "Python 3"
    },
    "language_info": {
      "name": "python"
    }
  },
  "cells": [
    {
      "cell_type": "markdown",
      "metadata": {
        "id": "view-in-github",
        "colab_type": "text"
      },
      "source": [
        "<a href=\"https://colab.research.google.com/github/suisen26/AI/blob/main/%E3%83%A1%E3%82%BD%E3%83%83%E3%83%89%E4%B8%80%E8%A6%A7(numpy).ipynb\" target=\"_parent\"><img src=\"https://colab.research.google.com/assets/colab-badge.svg\" alt=\"Open In Colab\"/></a>"
      ]
    },
    {
      "cell_type": "markdown",
      "source": [
        "#<font color=\"red\">numpyの関数"
      ],
      "metadata": {
        "id": "1iN_n_AdNMIu"
      }
    },
    {
      "cell_type": "code",
      "execution_count": 1,
      "metadata": {
        "id": "xR_8N7lqMvyO"
      },
      "outputs": [],
      "source": [
        "import numpy as np"
      ]
    },
    {
      "cell_type": "code",
      "source": [
        "_array_ = np.ndarray(shape=(2,2))"
      ],
      "metadata": {
        "id": "5Z_xZP_RNW3a"
      },
      "execution_count": 2,
      "outputs": []
    },
    {
      "cell_type": "markdown",
      "source": [
        "#<font color=\"red\">arange()"
      ],
      "metadata": {
        "id": "IoEnhKnyOdDX"
      }
    },
    {
      "cell_type": "code",
      "source": [
        "np.arange(15)"
      ],
      "metadata": {
        "colab": {
          "base_uri": "https://localhost:8080/"
        },
        "id": "8OZJeyi0NetS",
        "outputId": "9c5b6327-5095-4cf9-fe90-d3acdcc2a33b"
      },
      "execution_count": 3,
      "outputs": [
        {
          "output_type": "execute_result",
          "data": {
            "text/plain": [
              "array([ 0,  1,  2,  3,  4,  5,  6,  7,  8,  9, 10, 11, 12, 13, 14])"
            ]
          },
          "metadata": {},
          "execution_count": 3
        }
      ]
    },
    {
      "cell_type": "code",
      "source": [
        "np.arange(1, stop=10)"
      ],
      "metadata": {
        "colab": {
          "base_uri": "https://localhost:8080/"
        },
        "id": "enUpaUNFO0T8",
        "outputId": "9b500690-8199-4c2e-86a3-a99bf9a6c81d"
      },
      "execution_count": 4,
      "outputs": [
        {
          "output_type": "execute_result",
          "data": {
            "text/plain": [
              "array([1, 2, 3, 4, 5, 6, 7, 8, 9])"
            ]
          },
          "metadata": {},
          "execution_count": 4
        }
      ]
    },
    {
      "cell_type": "code",
      "source": [
        "np.arange(1, stop=10, step=2)"
      ],
      "metadata": {
        "colab": {
          "base_uri": "https://localhost:8080/"
        },
        "id": "jm0P3p8vO36q",
        "outputId": "21435686-3f37-4ae6-8f7e-734088684a99"
      },
      "execution_count": 5,
      "outputs": [
        {
          "output_type": "execute_result",
          "data": {
            "text/plain": [
              "array([1, 3, 5, 7, 9])"
            ]
          },
          "metadata": {},
          "execution_count": 5
        }
      ]
    },
    {
      "cell_type": "markdown",
      "source": [
        "#<font color=\"red\">linspace()"
      ],
      "metadata": {
        "id": "B-P_khkAO9gO"
      }
    },
    {
      "cell_type": "code",
      "source": [
        "np.linspace(0, 10)"
      ],
      "metadata": {
        "colab": {
          "base_uri": "https://localhost:8080/"
        },
        "id": "0XqytJmCO7wg",
        "outputId": "372fc635-7031-43cc-eb60-7047ce6ac637"
      },
      "execution_count": 6,
      "outputs": [
        {
          "output_type": "execute_result",
          "data": {
            "text/plain": [
              "array([ 0.        ,  0.20408163,  0.40816327,  0.6122449 ,  0.81632653,\n",
              "        1.02040816,  1.2244898 ,  1.42857143,  1.63265306,  1.83673469,\n",
              "        2.04081633,  2.24489796,  2.44897959,  2.65306122,  2.85714286,\n",
              "        3.06122449,  3.26530612,  3.46938776,  3.67346939,  3.87755102,\n",
              "        4.08163265,  4.28571429,  4.48979592,  4.69387755,  4.89795918,\n",
              "        5.10204082,  5.30612245,  5.51020408,  5.71428571,  5.91836735,\n",
              "        6.12244898,  6.32653061,  6.53061224,  6.73469388,  6.93877551,\n",
              "        7.14285714,  7.34693878,  7.55102041,  7.75510204,  7.95918367,\n",
              "        8.16326531,  8.36734694,  8.57142857,  8.7755102 ,  8.97959184,\n",
              "        9.18367347,  9.3877551 ,  9.59183673,  9.79591837, 10.        ])"
            ]
          },
          "metadata": {},
          "execution_count": 6
        }
      ]
    },
    {
      "cell_type": "code",
      "source": [
        "np.linspace(0, 10, 30)"
      ],
      "metadata": {
        "colab": {
          "base_uri": "https://localhost:8080/"
        },
        "id": "YA3GMtgfPe1Q",
        "outputId": "efba29f3-2bce-47dd-dedc-f124ed2eeedc"
      },
      "execution_count": 7,
      "outputs": [
        {
          "output_type": "execute_result",
          "data": {
            "text/plain": [
              "array([ 0.        ,  0.34482759,  0.68965517,  1.03448276,  1.37931034,\n",
              "        1.72413793,  2.06896552,  2.4137931 ,  2.75862069,  3.10344828,\n",
              "        3.44827586,  3.79310345,  4.13793103,  4.48275862,  4.82758621,\n",
              "        5.17241379,  5.51724138,  5.86206897,  6.20689655,  6.55172414,\n",
              "        6.89655172,  7.24137931,  7.5862069 ,  7.93103448,  8.27586207,\n",
              "        8.62068966,  8.96551724,  9.31034483,  9.65517241, 10.        ])"
            ]
          },
          "metadata": {},
          "execution_count": 7
        }
      ]
    },
    {
      "cell_type": "markdown",
      "source": [
        "#<font color=\"red\">reshape()"
      ],
      "metadata": {
        "id": "Srn9bZJQPwnA"
      }
    },
    {
      "cell_type": "code",
      "source": [
        "np.arange(15)"
      ],
      "metadata": {
        "colab": {
          "base_uri": "https://localhost:8080/"
        },
        "id": "BHlZeRSpPh1S",
        "outputId": "d2c7f982-950f-4e58-f583-b29c0888bcb7"
      },
      "execution_count": 8,
      "outputs": [
        {
          "output_type": "execute_result",
          "data": {
            "text/plain": [
              "array([ 0,  1,  2,  3,  4,  5,  6,  7,  8,  9, 10, 11, 12, 13, 14])"
            ]
          },
          "metadata": {},
          "execution_count": 8
        }
      ]
    },
    {
      "cell_type": "code",
      "source": [
        "np.arange(15).reshape((3, 5))"
      ],
      "metadata": {
        "colab": {
          "base_uri": "https://localhost:8080/"
        },
        "id": "qKnJm7RZP9Ay",
        "outputId": "3a2eac12-afb0-42e1-a5ce-a3dd98ffb063"
      },
      "execution_count": 9,
      "outputs": [
        {
          "output_type": "execute_result",
          "data": {
            "text/plain": [
              "array([[ 0,  1,  2,  3,  4],\n",
              "       [ 5,  6,  7,  8,  9],\n",
              "       [10, 11, 12, 13, 14]])"
            ]
          },
          "metadata": {},
          "execution_count": 9
        }
      ]
    },
    {
      "cell_type": "code",
      "source": [
        "np.arange(15).reshape((5, 3))"
      ],
      "metadata": {
        "colab": {
          "base_uri": "https://localhost:8080/"
        },
        "id": "buTAV27GQDoi",
        "outputId": "6a153ba6-bc12-4f9a-ced0-bf4f490494e6"
      },
      "execution_count": 10,
      "outputs": [
        {
          "output_type": "execute_result",
          "data": {
            "text/plain": [
              "array([[ 0,  1,  2],\n",
              "       [ 3,  4,  5],\n",
              "       [ 6,  7,  8],\n",
              "       [ 9, 10, 11],\n",
              "       [12, 13, 14]])"
            ]
          },
          "metadata": {},
          "execution_count": 10
        }
      ]
    },
    {
      "cell_type": "markdown",
      "source": [
        "#<font color=\"red\">shape"
      ],
      "metadata": {
        "id": "FhG3o00BQTyG"
      }
    },
    {
      "cell_type": "code",
      "source": [
        "np.arange(15)"
      ],
      "metadata": {
        "colab": {
          "base_uri": "https://localhost:8080/"
        },
        "id": "UlyCUgqlQKA9",
        "outputId": "5b42e909-6250-4141-bd28-974e3a9afc73"
      },
      "execution_count": 11,
      "outputs": [
        {
          "output_type": "execute_result",
          "data": {
            "text/plain": [
              "array([ 0,  1,  2,  3,  4,  5,  6,  7,  8,  9, 10, 11, 12, 13, 14])"
            ]
          },
          "metadata": {},
          "execution_count": 11
        }
      ]
    },
    {
      "cell_type": "code",
      "source": [
        "np.arange(15).shape"
      ],
      "metadata": {
        "colab": {
          "base_uri": "https://localhost:8080/"
        },
        "id": "OTR0ePSLQdVn",
        "outputId": "ea5d0ae6-7750-4439-e9f5-67e6447c252c"
      },
      "execution_count": 12,
      "outputs": [
        {
          "output_type": "execute_result",
          "data": {
            "text/plain": [
              "(15,)"
            ]
          },
          "metadata": {},
          "execution_count": 12
        }
      ]
    },
    {
      "cell_type": "code",
      "source": [
        "np.arange(15).reshape((5, 3)).shape"
      ],
      "metadata": {
        "colab": {
          "base_uri": "https://localhost:8080/"
        },
        "id": "54p8fkyGQgSD",
        "outputId": "c8c120d6-f947-4e38-e96c-faadf4803fcf"
      },
      "execution_count": 13,
      "outputs": [
        {
          "output_type": "execute_result",
          "data": {
            "text/plain": [
              "(5, 3)"
            ]
          },
          "metadata": {},
          "execution_count": 13
        }
      ]
    },
    {
      "cell_type": "markdown",
      "source": [
        "#<font color=\"red\">ndim"
      ],
      "metadata": {
        "id": "zDKBQmk1QpbQ"
      }
    },
    {
      "cell_type": "code",
      "source": [
        "np.arange(15).ndim"
      ],
      "metadata": {
        "colab": {
          "base_uri": "https://localhost:8080/"
        },
        "id": "K7OVcboeQl1K",
        "outputId": "960b9e15-ddf6-4863-88f5-05d7eaf38504"
      },
      "execution_count": 14,
      "outputs": [
        {
          "output_type": "execute_result",
          "data": {
            "text/plain": [
              "1"
            ]
          },
          "metadata": {},
          "execution_count": 14
        }
      ]
    },
    {
      "cell_type": "code",
      "source": [
        "np.arange(15).reshape((5, 3)).ndim"
      ],
      "metadata": {
        "colab": {
          "base_uri": "https://localhost:8080/"
        },
        "id": "BjEihGPRQxT6",
        "outputId": "768a328b-0a64-4898-f790-b712b91e76e6"
      },
      "execution_count": 15,
      "outputs": [
        {
          "output_type": "execute_result",
          "data": {
            "text/plain": [
              "2"
            ]
          },
          "metadata": {},
          "execution_count": 15
        }
      ]
    },
    {
      "cell_type": "markdown",
      "source": [
        "#<font color=\"red\">dtype"
      ],
      "metadata": {
        "id": "z1-MFmMRQ9nr"
      }
    },
    {
      "cell_type": "code",
      "source": [
        "np.arange(15).dtype"
      ],
      "metadata": {
        "colab": {
          "base_uri": "https://localhost:8080/"
        },
        "id": "aSAEtPkjQ3BU",
        "outputId": "ca174452-f3a8-487e-da0a-b284663fc502"
      },
      "execution_count": 16,
      "outputs": [
        {
          "output_type": "execute_result",
          "data": {
            "text/plain": [
              "dtype('int64')"
            ]
          },
          "metadata": {},
          "execution_count": 16
        }
      ]
    },
    {
      "cell_type": "code",
      "source": [
        "np.arange(15.0).dtype"
      ],
      "metadata": {
        "colab": {
          "base_uri": "https://localhost:8080/"
        },
        "id": "nnUCp7IyRHuT",
        "outputId": "9b6d516f-8d35-492b-f511-c0e750631bfc"
      },
      "execution_count": 17,
      "outputs": [
        {
          "output_type": "execute_result",
          "data": {
            "text/plain": [
              "dtype('float64')"
            ]
          },
          "metadata": {},
          "execution_count": 17
        }
      ]
    },
    {
      "cell_type": "markdown",
      "source": [
        "#<font color=\"red\">zeros"
      ],
      "metadata": {
        "id": "kPcjdLk-ROXN"
      }
    },
    {
      "cell_type": "code",
      "source": [
        "np.zeros(3)"
      ],
      "metadata": {
        "colab": {
          "base_uri": "https://localhost:8080/"
        },
        "id": "mGIdSH4CRLaR",
        "outputId": "df22495f-ed20-4dc7-d553-59a761d915f1"
      },
      "execution_count": 18,
      "outputs": [
        {
          "output_type": "execute_result",
          "data": {
            "text/plain": [
              "array([0., 0., 0.])"
            ]
          },
          "metadata": {},
          "execution_count": 18
        }
      ]
    },
    {
      "cell_type": "code",
      "source": [
        "np.zeros([3, 2])"
      ],
      "metadata": {
        "colab": {
          "base_uri": "https://localhost:8080/"
        },
        "id": "6AOkDh5MRYRR",
        "outputId": "ca6b1cdb-ae8e-45c3-d328-e29b12b94bf9"
      },
      "execution_count": 19,
      "outputs": [
        {
          "output_type": "execute_result",
          "data": {
            "text/plain": [
              "array([[0., 0.],\n",
              "       [0., 0.],\n",
              "       [0., 0.]])"
            ]
          },
          "metadata": {},
          "execution_count": 19
        }
      ]
    },
    {
      "cell_type": "markdown",
      "source": [
        "#<font color=\"red\">nonzero"
      ],
      "metadata": {
        "id": "VJ56cUqvRenc"
      }
    },
    {
      "cell_type": "code",
      "source": [
        "np.nonzero([1, 2, 4, 0, 5, 6])"
      ],
      "metadata": {
        "colab": {
          "base_uri": "https://localhost:8080/"
        },
        "id": "vFbQsZglRb4r",
        "outputId": "33370bf5-fdc8-4067-8790-b8cbe779e5bc"
      },
      "execution_count": 20,
      "outputs": [
        {
          "output_type": "execute_result",
          "data": {
            "text/plain": [
              "(array([0, 1, 2, 4, 5]),)"
            ]
          },
          "metadata": {},
          "execution_count": 20
        }
      ]
    },
    {
      "cell_type": "markdown",
      "source": [
        "#<font color=\"red\">eye()"
      ],
      "metadata": {
        "id": "BFVSY3B7R3sE"
      }
    },
    {
      "cell_type": "code",
      "source": [
        "np.eye(3)"
      ],
      "metadata": {
        "colab": {
          "base_uri": "https://localhost:8080/"
        },
        "id": "mnCQaGvnRtCm",
        "outputId": "aefc96d0-4eae-4154-9b46-ceb9d4cc426e"
      },
      "execution_count": 21,
      "outputs": [
        {
          "output_type": "execute_result",
          "data": {
            "text/plain": [
              "array([[1., 0., 0.],\n",
              "       [0., 1., 0.],\n",
              "       [0., 0., 1.]])"
            ]
          },
          "metadata": {},
          "execution_count": 21
        }
      ]
    },
    {
      "cell_type": "markdown",
      "source": [
        "#<font color=\"red\">random()"
      ],
      "metadata": {
        "id": "VY8JRaRuSEGo"
      }
    },
    {
      "cell_type": "code",
      "source": [
        "np.random.random((3, 3, 3))"
      ],
      "metadata": {
        "colab": {
          "base_uri": "https://localhost:8080/"
        },
        "id": "9aRsPo2qSBGj",
        "outputId": "366ebd75-4f89-4755-a172-3ffc5c320343"
      },
      "execution_count": 22,
      "outputs": [
        {
          "output_type": "execute_result",
          "data": {
            "text/plain": [
              "array([[[7.00683822e-01, 8.08904102e-01, 9.20023732e-01],\n",
              "        [3.69442945e-01, 8.01874248e-01, 1.56250938e-01],\n",
              "        [9.85258839e-01, 3.04508887e-05, 4.73528694e-01]],\n",
              "\n",
              "       [[6.12765110e-01, 4.53582515e-01, 1.94633390e-01],\n",
              "        [6.38547224e-01, 1.11681152e-02, 5.32358286e-01],\n",
              "        [5.84733172e-01, 7.38196906e-01, 1.50237692e-01]],\n",
              "\n",
              "       [[2.79478318e-01, 5.50194909e-01, 8.48953540e-01],\n",
              "        [8.65795552e-01, 4.22383814e-01, 9.18985739e-01],\n",
              "        [6.44184451e-01, 2.92074433e-01, 5.58856118e-01]]])"
            ]
          },
          "metadata": {},
          "execution_count": 22
        }
      ]
    },
    {
      "cell_type": "code",
      "source": [
        "np.random.random_sample((3, 3, 3))"
      ],
      "metadata": {
        "colab": {
          "base_uri": "https://localhost:8080/"
        },
        "id": "IlfDs0NNSRbK",
        "outputId": "4494c93d-8be7-4ec1-e367-eac71b261027"
      },
      "execution_count": 23,
      "outputs": [
        {
          "output_type": "execute_result",
          "data": {
            "text/plain": [
              "array([[[0.57356521, 0.16273946, 0.91581111],\n",
              "        [0.72503746, 0.05326843, 0.77166394],\n",
              "        [0.4531967 , 0.92552881, 0.64912541]],\n",
              "\n",
              "       [[0.79653964, 0.96016779, 0.35616278],\n",
              "        [0.89491787, 0.39156593, 0.25392146],\n",
              "        [0.07856762, 0.91486271, 0.64719061]],\n",
              "\n",
              "       [[0.39515859, 0.37412736, 0.52405595],\n",
              "        [0.93537451, 0.6154862 , 0.04609029],\n",
              "        [0.15598545, 0.03813487, 0.90323819]]])"
            ]
          },
          "metadata": {},
          "execution_count": 23
        }
      ]
    },
    {
      "cell_type": "markdown",
      "source": [
        "#<font color=\"red\">randint()"
      ],
      "metadata": {
        "id": "quRCrIkCSlPd"
      }
    },
    {
      "cell_type": "code",
      "source": [
        "np.random.randint(4)"
      ],
      "metadata": {
        "colab": {
          "base_uri": "https://localhost:8080/"
        },
        "id": "f4-qsmIBSYWU",
        "outputId": "eafe9704-01fd-49f6-d1d7-6896140fd602"
      },
      "execution_count": 24,
      "outputs": [
        {
          "output_type": "execute_result",
          "data": {
            "text/plain": [
              "1"
            ]
          },
          "metadata": {},
          "execution_count": 24
        }
      ]
    },
    {
      "cell_type": "code",
      "source": [
        "np.random.randint(4, 12)"
      ],
      "metadata": {
        "colab": {
          "base_uri": "https://localhost:8080/"
        },
        "id": "LXoxf5P4SyKT",
        "outputId": "d7d602e0-f274-4707-f6ff-e996b014ae55"
      },
      "execution_count": 25,
      "outputs": [
        {
          "output_type": "execute_result",
          "data": {
            "text/plain": [
              "8"
            ]
          },
          "metadata": {},
          "execution_count": 25
        }
      ]
    },
    {
      "cell_type": "code",
      "source": [
        "np.random.randint(4, 12, (3, 2))"
      ],
      "metadata": {
        "colab": {
          "base_uri": "https://localhost:8080/"
        },
        "id": "U6Js2DfkS4Un",
        "outputId": "cfafdef2-8e17-4292-e466-490e81279c70"
      },
      "execution_count": 26,
      "outputs": [
        {
          "output_type": "execute_result",
          "data": {
            "text/plain": [
              "array([[ 7,  6],\n",
              "       [ 4,  5],\n",
              "       [10,  4]])"
            ]
          },
          "metadata": {},
          "execution_count": 26
        }
      ]
    },
    {
      "cell_type": "markdown",
      "source": [
        "#<font color=\"red\">uniform()"
      ],
      "metadata": {
        "id": "Gm0W3HKfTRhk"
      }
    },
    {
      "cell_type": "code",
      "source": [
        "np.random.uniform()"
      ],
      "metadata": {
        "colab": {
          "base_uri": "https://localhost:8080/"
        },
        "id": "aIeqtLEfTBkZ",
        "outputId": "5d6cd7c1-9576-41a1-908e-52f4ad249812"
      },
      "execution_count": 27,
      "outputs": [
        {
          "output_type": "execute_result",
          "data": {
            "text/plain": [
              "0.4268058944022788"
            ]
          },
          "metadata": {},
          "execution_count": 27
        }
      ]
    },
    {
      "cell_type": "code",
      "source": [
        "np.random.uniform(0)"
      ],
      "metadata": {
        "colab": {
          "base_uri": "https://localhost:8080/"
        },
        "id": "af-p4_VhTdqy",
        "outputId": "735675d8-77b9-492f-aa75-c05bdd704f67"
      },
      "execution_count": 28,
      "outputs": [
        {
          "output_type": "execute_result",
          "data": {
            "text/plain": [
              "0.15411329163473286"
            ]
          },
          "metadata": {},
          "execution_count": 28
        }
      ]
    },
    {
      "cell_type": "code",
      "source": [
        "np.random.uniform(0, 10)"
      ],
      "metadata": {
        "colab": {
          "base_uri": "https://localhost:8080/"
        },
        "id": "BmcqMXj5ThQv",
        "outputId": "b58cd313-e8ae-4fa1-ab4e-ed6f6e56aefc"
      },
      "execution_count": 29,
      "outputs": [
        {
          "output_type": "execute_result",
          "data": {
            "text/plain": [
              "2.217446629316292"
            ]
          },
          "metadata": {},
          "execution_count": 29
        }
      ]
    },
    {
      "cell_type": "code",
      "source": [
        "np.random.uniform(0, 10, (2, 3))"
      ],
      "metadata": {
        "colab": {
          "base_uri": "https://localhost:8080/"
        },
        "id": "J9vLEyrUTmVb",
        "outputId": "33338cbd-e8c8-471f-9de1-b18298769d65"
      },
      "execution_count": 30,
      "outputs": [
        {
          "output_type": "execute_result",
          "data": {
            "text/plain": [
              "array([[8.2986887 , 2.38496119, 4.83040612],\n",
              "       [4.31483034, 5.69880784, 5.78019813]])"
            ]
          },
          "metadata": {},
          "execution_count": 30
        }
      ]
    },
    {
      "cell_type": "markdown",
      "source": [
        "#<font color=\"red\">min()"
      ],
      "metadata": {
        "id": "C2ezgzXqTxqk"
      }
    },
    {
      "cell_type": "code",
      "source": [
        "np.random.random_sample((3, 3, 3)).min()"
      ],
      "metadata": {
        "colab": {
          "base_uri": "https://localhost:8080/"
        },
        "id": "1vkp3ZLITsRa",
        "outputId": "1f79618e-04e2-4877-eed1-83e4dbd2712d"
      },
      "execution_count": 31,
      "outputs": [
        {
          "output_type": "execute_result",
          "data": {
            "text/plain": [
              "0.0027207579968754336"
            ]
          },
          "metadata": {},
          "execution_count": 31
        }
      ]
    },
    {
      "cell_type": "markdown",
      "source": [
        "#<font color=\"red\">max()"
      ],
      "metadata": {
        "id": "4icsAPQzUEIG"
      }
    },
    {
      "cell_type": "code",
      "source": [
        "np.random.random_sample((3, 3, 3)).max()"
      ],
      "metadata": {
        "colab": {
          "base_uri": "https://localhost:8080/"
        },
        "id": "92IMYAZdT-w1",
        "outputId": "b872c848-0ef3-42ea-9afb-b48c030e72df"
      },
      "execution_count": 32,
      "outputs": [
        {
          "output_type": "execute_result",
          "data": {
            "text/plain": [
              "0.9977622997427685"
            ]
          },
          "metadata": {},
          "execution_count": 32
        }
      ]
    },
    {
      "cell_type": "markdown",
      "source": [
        "#<font color=\"red\">ones"
      ],
      "metadata": {
        "id": "pCLqnW1MUURO"
      }
    },
    {
      "cell_type": "code",
      "source": [
        "np.ones([3, 5])"
      ],
      "metadata": {
        "colab": {
          "base_uri": "https://localhost:8080/"
        },
        "id": "nSTvCgiVURoB",
        "outputId": "2ef3eafb-138e-420a-b460-d3902f712c58"
      },
      "execution_count": 33,
      "outputs": [
        {
          "output_type": "execute_result",
          "data": {
            "text/plain": [
              "array([[1., 1., 1., 1., 1.],\n",
              "       [1., 1., 1., 1., 1.],\n",
              "       [1., 1., 1., 1., 1.]])"
            ]
          },
          "metadata": {},
          "execution_count": 33
        }
      ]
    },
    {
      "cell_type": "markdown",
      "source": [
        "#<font color=\"red\">pad()"
      ],
      "metadata": {
        "id": "10osqO_cUljK"
      }
    },
    {
      "cell_type": "code",
      "source": [
        "arr = np.arange(1, 5)\n",
        "arr"
      ],
      "metadata": {
        "colab": {
          "base_uri": "https://localhost:8080/"
        },
        "id": "TrtHcX65UiD-",
        "outputId": "c2d88264-e789-4cda-e405-bf7dbc0279fb"
      },
      "execution_count": 34,
      "outputs": [
        {
          "output_type": "execute_result",
          "data": {
            "text/plain": [
              "array([1, 2, 3, 4])"
            ]
          },
          "metadata": {},
          "execution_count": 34
        }
      ]
    },
    {
      "cell_type": "code",
      "source": [
        "np.pad(arr, (1, 1))"
      ],
      "metadata": {
        "colab": {
          "base_uri": "https://localhost:8080/"
        },
        "id": "d0xUSZ-xU29W",
        "outputId": "84afdc60-1682-4190-f07e-d4d186ead4a9"
      },
      "execution_count": 35,
      "outputs": [
        {
          "output_type": "execute_result",
          "data": {
            "text/plain": [
              "array([0, 1, 2, 3, 4, 0])"
            ]
          },
          "metadata": {},
          "execution_count": 35
        }
      ]
    },
    {
      "cell_type": "code",
      "source": [
        "np.pad(arr, (1, 2))"
      ],
      "metadata": {
        "colab": {
          "base_uri": "https://localhost:8080/"
        },
        "id": "DYG27nTrU7sn",
        "outputId": "036f720d-f45e-43cc-fb18-521d3ced0eb8"
      },
      "execution_count": 36,
      "outputs": [
        {
          "output_type": "execute_result",
          "data": {
            "text/plain": [
              "array([0, 1, 2, 3, 4, 0, 0])"
            ]
          },
          "metadata": {},
          "execution_count": 36
        }
      ]
    },
    {
      "cell_type": "code",
      "source": [
        "np.pad(arr, (1, 1), mode='edge')"
      ],
      "metadata": {
        "colab": {
          "base_uri": "https://localhost:8080/"
        },
        "id": "crR9RoEuU_p1",
        "outputId": "9e4809c6-92a9-40ce-ea04-e5be924064c6"
      },
      "execution_count": 37,
      "outputs": [
        {
          "output_type": "execute_result",
          "data": {
            "text/plain": [
              "array([1, 1, 2, 3, 4, 4])"
            ]
          },
          "metadata": {},
          "execution_count": 37
        }
      ]
    },
    {
      "cell_type": "code",
      "source": [
        "np.ones((3, 3))"
      ],
      "metadata": {
        "colab": {
          "base_uri": "https://localhost:8080/"
        },
        "id": "HeZE3YwDVGcE",
        "outputId": "bc7d0e49-c396-49da-e556-e89534a3acfb"
      },
      "execution_count": 38,
      "outputs": [
        {
          "output_type": "execute_result",
          "data": {
            "text/plain": [
              "array([[1., 1., 1.],\n",
              "       [1., 1., 1.],\n",
              "       [1., 1., 1.]])"
            ]
          },
          "metadata": {},
          "execution_count": 38
        }
      ]
    },
    {
      "cell_type": "code",
      "source": [
        "np.pad(np.ones((3, 3)), (2, 1))"
      ],
      "metadata": {
        "colab": {
          "base_uri": "https://localhost:8080/"
        },
        "id": "S5BzT1n3VJ_s",
        "outputId": "8a524166-72be-4195-d4e8-10b448087883"
      },
      "execution_count": 39,
      "outputs": [
        {
          "output_type": "execute_result",
          "data": {
            "text/plain": [
              "array([[0., 0., 0., 0., 0., 0.],\n",
              "       [0., 0., 0., 0., 0., 0.],\n",
              "       [0., 0., 1., 1., 1., 0.],\n",
              "       [0., 0., 1., 1., 1., 0.],\n",
              "       [0., 0., 1., 1., 1., 0.],\n",
              "       [0., 0., 0., 0., 0., 0.]])"
            ]
          },
          "metadata": {},
          "execution_count": 39
        }
      ]
    },
    {
      "cell_type": "markdown",
      "source": [
        "#<font color=\"red\">diag()"
      ],
      "metadata": {
        "id": "U8yQOwr9Xtda"
      }
    },
    {
      "cell_type": "code",
      "source": [
        "arr"
      ],
      "metadata": {
        "colab": {
          "base_uri": "https://localhost:8080/"
        },
        "id": "POD3RbdCVRHr",
        "outputId": "66a96995-20c5-4da3-9874-8af63d98b1ad"
      },
      "execution_count": 40,
      "outputs": [
        {
          "output_type": "execute_result",
          "data": {
            "text/plain": [
              "array([1, 2, 3, 4])"
            ]
          },
          "metadata": {},
          "execution_count": 40
        }
      ]
    },
    {
      "cell_type": "code",
      "source": [
        "np.diag(arr)"
      ],
      "metadata": {
        "colab": {
          "base_uri": "https://localhost:8080/"
        },
        "id": "zJ6Ny1-HX5Z3",
        "outputId": "39703b8e-b3ab-4e4f-bffb-d84c0ccd7ebb"
      },
      "execution_count": 41,
      "outputs": [
        {
          "output_type": "execute_result",
          "data": {
            "text/plain": [
              "array([[1, 0, 0, 0],\n",
              "       [0, 2, 0, 0],\n",
              "       [0, 0, 3, 0],\n",
              "       [0, 0, 0, 4]])"
            ]
          },
          "metadata": {},
          "execution_count": 41
        }
      ]
    },
    {
      "cell_type": "code",
      "source": [
        "np.arange(0, 9).reshape((3, 3))"
      ],
      "metadata": {
        "colab": {
          "base_uri": "https://localhost:8080/"
        },
        "id": "9Oy7OodPX9Fi",
        "outputId": "1b36cc95-437d-4c5e-e26a-eeacab550a29"
      },
      "execution_count": 42,
      "outputs": [
        {
          "output_type": "execute_result",
          "data": {
            "text/plain": [
              "array([[0, 1, 2],\n",
              "       [3, 4, 5],\n",
              "       [6, 7, 8]])"
            ]
          },
          "metadata": {},
          "execution_count": 42
        }
      ]
    },
    {
      "cell_type": "code",
      "source": [
        "np.diag(np.arange(0, 9).reshape((3, 3)))"
      ],
      "metadata": {
        "colab": {
          "base_uri": "https://localhost:8080/"
        },
        "id": "bx_Q0dK8YEyp",
        "outputId": "ff68f7c3-7314-499e-8d7f-b9168bbd5bf1"
      },
      "execution_count": 43,
      "outputs": [
        {
          "output_type": "execute_result",
          "data": {
            "text/plain": [
              "array([0, 4, 8])"
            ]
          },
          "metadata": {},
          "execution_count": 43
        }
      ]
    },
    {
      "cell_type": "code",
      "source": [
        "np.diag(np.arange(0, 9).reshape((3, 3)), k=1)"
      ],
      "metadata": {
        "colab": {
          "base_uri": "https://localhost:8080/"
        },
        "id": "k7FUQD5OYRG2",
        "outputId": "5d667e4e-3b6e-40c7-cc24-bcf86dfa8cbc"
      },
      "execution_count": 44,
      "outputs": [
        {
          "output_type": "execute_result",
          "data": {
            "text/plain": [
              "array([1, 5])"
            ]
          },
          "metadata": {},
          "execution_count": 44
        }
      ]
    },
    {
      "cell_type": "code",
      "source": [
        "np.diag(np.arange(0, 9).reshape((3, 3)), k=-1)"
      ],
      "metadata": {
        "colab": {
          "base_uri": "https://localhost:8080/"
        },
        "id": "7oTjlgbqYY42",
        "outputId": "c571db9a-4356-4436-ed58-2dd2122eb53d"
      },
      "execution_count": 45,
      "outputs": [
        {
          "output_type": "execute_result",
          "data": {
            "text/plain": [
              "array([3, 7])"
            ]
          },
          "metadata": {},
          "execution_count": 45
        }
      ]
    },
    {
      "cell_type": "markdown",
      "source": [
        "#<font color=\"red\">unravel_index()"
      ],
      "metadata": {
        "id": "htQ7lmAbY1UR"
      }
    },
    {
      "cell_type": "code",
      "source": [
        "arr = np.arange(0, 15).reshape((3, 5))\n",
        "arr"
      ],
      "metadata": {
        "colab": {
          "base_uri": "https://localhost:8080/"
        },
        "id": "ZYYwbjm3YgK5",
        "outputId": "d85842d1-313d-4086-9fc4-3f37e9c32a59"
      },
      "execution_count": 46,
      "outputs": [
        {
          "output_type": "execute_result",
          "data": {
            "text/plain": [
              "array([[ 0,  1,  2,  3,  4],\n",
              "       [ 5,  6,  7,  8,  9],\n",
              "       [10, 11, 12, 13, 14]])"
            ]
          },
          "metadata": {},
          "execution_count": 46
        }
      ]
    },
    {
      "cell_type": "code",
      "source": [
        "np.unravel_index(5, (3, 4, 2))"
      ],
      "metadata": {
        "colab": {
          "base_uri": "https://localhost:8080/"
        },
        "id": "qBh5BnhTZQdQ",
        "outputId": "e2ee95d4-b6bd-499c-9f06-362e7863bd2e"
      },
      "execution_count": 47,
      "outputs": [
        {
          "output_type": "execute_result",
          "data": {
            "text/plain": [
              "(0, 2, 1)"
            ]
          },
          "metadata": {},
          "execution_count": 47
        }
      ]
    },
    {
      "cell_type": "code",
      "source": [
        "np.unravel_index(np.argmax(arr), arr.shape)"
      ],
      "metadata": {
        "colab": {
          "base_uri": "https://localhost:8080/"
        },
        "id": "IMIgs00iZk6t",
        "outputId": "1161d6bc-6422-49c7-a904-56ee29479450"
      },
      "execution_count": 48,
      "outputs": [
        {
          "output_type": "execute_result",
          "data": {
            "text/plain": [
              "(2, 4)"
            ]
          },
          "metadata": {},
          "execution_count": 48
        }
      ]
    },
    {
      "cell_type": "markdown",
      "source": [
        "#<font color=\"red\">dot()"
      ],
      "metadata": {
        "id": "hnoo3yClZvw_"
      }
    },
    {
      "cell_type": "code",
      "source": [
        "np.dot(10, 2)"
      ],
      "metadata": {
        "colab": {
          "base_uri": "https://localhost:8080/"
        },
        "id": "QWnq1TdGZtWo",
        "outputId": "dd43d747-91ae-4f70-b885-e11915565f34"
      },
      "execution_count": 49,
      "outputs": [
        {
          "output_type": "execute_result",
          "data": {
            "text/plain": [
              "20"
            ]
          },
          "metadata": {},
          "execution_count": 49
        }
      ]
    },
    {
      "cell_type": "code",
      "source": [
        "np.dot([1, 2], [3, 5])"
      ],
      "metadata": {
        "colab": {
          "base_uri": "https://localhost:8080/"
        },
        "id": "7OmbHnQqZ5yR",
        "outputId": "2eb0389f-9f4a-49d0-a1d1-7b8eb0f20356"
      },
      "execution_count": 50,
      "outputs": [
        {
          "output_type": "execute_result",
          "data": {
            "text/plain": [
              "13"
            ]
          },
          "metadata": {},
          "execution_count": 50
        }
      ]
    },
    {
      "cell_type": "markdown",
      "source": [
        "#<font color=\"red\">sqrt()"
      ],
      "metadata": {
        "id": "tUfliJ38aSg8"
      }
    },
    {
      "cell_type": "code",
      "source": [
        "np.emath.sqrt(10)"
      ],
      "metadata": {
        "colab": {
          "base_uri": "https://localhost:8080/"
        },
        "id": "FEzyXtz8Z9Al",
        "outputId": "2b93f347-f36e-4499-8bec-8ecd82ad88fe"
      },
      "execution_count": 51,
      "outputs": [
        {
          "output_type": "execute_result",
          "data": {
            "text/plain": [
              "3.1622776601683795"
            ]
          },
          "metadata": {},
          "execution_count": 51
        }
      ]
    },
    {
      "cell_type": "code",
      "source": [
        "np.emath.sqrt(-10)"
      ],
      "metadata": {
        "colab": {
          "base_uri": "https://localhost:8080/"
        },
        "id": "LZWATEbIanvO",
        "outputId": "b65c65f6-781e-46ad-c059-920c4da53b5c"
      },
      "execution_count": 52,
      "outputs": [
        {
          "output_type": "execute_result",
          "data": {
            "text/plain": [
              "3.1622776601683795j"
            ]
          },
          "metadata": {},
          "execution_count": 52
        }
      ]
    },
    {
      "cell_type": "markdown",
      "source": [
        "#<font color=\"red\">meshgrid()"
      ],
      "metadata": {
        "id": "wJ0kQ7yWauLA"
      }
    },
    {
      "cell_type": "code",
      "source": [
        "np.meshgrid([1, 2, 3], [4, 5, 6])"
      ],
      "metadata": {
        "colab": {
          "base_uri": "https://localhost:8080/"
        },
        "id": "Wcn8cr5_arsv",
        "outputId": "26d7c593-4217-4b79-97bf-3ec9ba7b0040"
      },
      "execution_count": 53,
      "outputs": [
        {
          "output_type": "execute_result",
          "data": {
            "text/plain": [
              "[array([[1, 2, 3],\n",
              "        [1, 2, 3],\n",
              "        [1, 2, 3]]), array([[4, 4, 4],\n",
              "        [5, 5, 5],\n",
              "        [6, 6, 6]])]"
            ]
          },
          "metadata": {},
          "execution_count": 53
        }
      ]
    },
    {
      "cell_type": "markdown",
      "source": [
        "#<font color=\"red\">ndenumerate()"
      ],
      "metadata": {
        "id": "OzVdgZ-ybMGj"
      }
    },
    {
      "cell_type": "code",
      "source": [
        "for i in np.ndenumerate([1, 2, 4]):\n",
        "  print(i)"
      ],
      "metadata": {
        "colab": {
          "base_uri": "https://localhost:8080/"
        },
        "id": "YKaUH8QabEyQ",
        "outputId": "5c4f23cf-de84-43ef-f08f-2c4c0f9665b7"
      },
      "execution_count": 54,
      "outputs": [
        {
          "output_type": "stream",
          "name": "stdout",
          "text": [
            "((0,), 1)\n",
            "((1,), 2)\n",
            "((2,), 4)\n"
          ]
        }
      ]
    },
    {
      "cell_type": "code",
      "source": [
        "for i in np.ndenumerate(np.arange(0, 9).reshape(3, 3)):\n",
        "  print(i)"
      ],
      "metadata": {
        "colab": {
          "base_uri": "https://localhost:8080/"
        },
        "id": "znQ0Fz4ubvUL",
        "outputId": "7f99778b-abee-42a9-9c60-7f9edf5c3ed2"
      },
      "execution_count": 55,
      "outputs": [
        {
          "output_type": "stream",
          "name": "stdout",
          "text": [
            "((0, 0), 0)\n",
            "((0, 1), 1)\n",
            "((0, 2), 2)\n",
            "((1, 0), 3)\n",
            "((1, 1), 4)\n",
            "((1, 2), 5)\n",
            "((2, 0), 6)\n",
            "((2, 1), 7)\n",
            "((2, 2), 8)\n"
          ]
        }
      ]
    },
    {
      "cell_type": "markdown",
      "source": [
        "#<font color=\"red\">choice()"
      ],
      "metadata": {
        "id": "vn9YDhvDb_ug"
      }
    },
    {
      "cell_type": "code",
      "source": [
        "np.random.choice([1, 2, 3, 4, 5, 6])"
      ],
      "metadata": {
        "colab": {
          "base_uri": "https://localhost:8080/"
        },
        "id": "o7vIIdPLb4iG",
        "outputId": "eadc6233-1395-444c-d756-051a35b98954"
      },
      "execution_count": 56,
      "outputs": [
        {
          "output_type": "execute_result",
          "data": {
            "text/plain": [
              "2"
            ]
          },
          "metadata": {},
          "execution_count": 56
        }
      ]
    },
    {
      "cell_type": "markdown",
      "source": [
        "#<font color=\"red\">bincount()"
      ],
      "metadata": {
        "id": "k-Cu_Z0tcPM2"
      }
    },
    {
      "cell_type": "code",
      "source": [
        "np.bincount([1, 1, 2, 4, 5, 3, 2])"
      ],
      "metadata": {
        "colab": {
          "base_uri": "https://localhost:8080/"
        },
        "id": "zroIlhbwcLab",
        "outputId": "38ddd009-e71d-453a-a1d4-5bd2fce52a0e"
      },
      "execution_count": 57,
      "outputs": [
        {
          "output_type": "execute_result",
          "data": {
            "text/plain": [
              "array([0, 2, 2, 1, 1, 1])"
            ]
          },
          "metadata": {},
          "execution_count": 57
        }
      ]
    }
  ]
}