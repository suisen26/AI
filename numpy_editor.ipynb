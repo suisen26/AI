{
  "cells": [
    {
      "cell_type": "markdown",
      "metadata": {
        "id": "view-in-github",
        "colab_type": "text"
      },
      "source": [
        "<a href=\"https://colab.research.google.com/github/suisen26/AI/blob/main/numpy_editor.ipynb\" target=\"_parent\"><img src=\"https://colab.research.google.com/assets/colab-badge.svg\" alt=\"Open In Colab\"/></a>"
      ]
    },
    {
      "cell_type": "markdown",
      "metadata": {
        "id": "Zc0QpLylDv9s"
      },
      "source": [
        "# numpy exercises\n",
        "\n",
        "\n",
        "1. データの状態を確認する方法について学習します。（4問）\n",
        "2. 配列について学習します。（4問）\n",
        "3. スライスについて学習します。（5問）\n",
        "4. 行列について学習します。（基礎）（6問）\n",
        "5. 行列について学習します。（応用）（7問）\n",
        "6. numpyでよく使う機能について学習します。（14問）"
      ]
    },
    {
      "cell_type": "markdown",
      "metadata": {
        "id": "lUL8dHCiDv9v"
      },
      "source": [
        "### 0. 事前準備"
      ]
    },
    {
      "cell_type": "markdown",
      "metadata": {
        "id": "nAA-hn_TDv9w"
      },
      "source": [
        "#### 0.1 「numpyを読み込んでください。」"
      ]
    },
    {
      "cell_type": "code",
      "execution_count": 3,
      "metadata": {
        "id": "N3B_Wpr1Dv9w"
      },
      "outputs": [],
      "source": [
        "import numpy as np"
      ]
    },
    {
      "cell_type": "markdown",
      "metadata": {
        "id": "JP4iovlXDv9y"
      },
      "source": [
        "#### 0.2 「以下のコードを読み込んでください。」"
      ]
    },
    {
      "cell_type": "code",
      "execution_count": 4,
      "metadata": {
        "colab": {
          "base_uri": "https://localhost:8080/"
        },
        "id": "Xk1s8AV4Dv9y",
        "outputId": "62f9fae8-9a77-4e7c-b82b-cd062733ed3d"
      },
      "outputs": [
        {
          "output_type": "execute_result",
          "data": {
            "text/plain": [
              "array([[ 0,  1,  2,  3,  4],\n",
              "       [ 5,  6,  7,  8,  9],\n",
              "       [10, 11, 12, 13, 14]])"
            ]
          },
          "metadata": {},
          "execution_count": 4
        }
      ],
      "source": [
        "a = np.arange(15).reshape(3, 5)\n",
        "a"
      ]
    },
    {
      "cell_type": "markdown",
      "metadata": {
        "id": "K8Kv4cQpDv9z"
      },
      "source": [
        "### 1. データの状態を確認する方法について学習します。（4問）"
      ]
    },
    {
      "cell_type": "markdown",
      "metadata": {
        "id": "bYn0VxWmDv90"
      },
      "source": [
        "#### 1.1 「行列の大きさを確認してください。」"
      ]
    },
    {
      "cell_type": "code",
      "execution_count": 5,
      "metadata": {
        "colab": {
          "base_uri": "https://localhost:8080/"
        },
        "id": "RRZtD1F8Dv90",
        "outputId": "beefb2cb-f439-4848-f790-637fa2bfdc58"
      },
      "outputs": [
        {
          "output_type": "execute_result",
          "data": {
            "text/plain": [
              "(3, 5)"
            ]
          },
          "metadata": {},
          "execution_count": 5
        }
      ],
      "source": [
        "a.shape"
      ]
    },
    {
      "cell_type": "markdown",
      "metadata": {
        "id": "dTOJn01EDv90"
      },
      "source": [
        "#### 1.2 「行列の軸数（次元）を確認してください。」"
      ]
    },
    {
      "cell_type": "code",
      "execution_count": 6,
      "metadata": {
        "colab": {
          "base_uri": "https://localhost:8080/"
        },
        "id": "aTs2ALENDv91",
        "outputId": "13db1a20-def3-417e-817a-41e03730f233"
      },
      "outputs": [
        {
          "output_type": "execute_result",
          "data": {
            "text/plain": [
              "2"
            ]
          },
          "metadata": {},
          "execution_count": 6
        }
      ],
      "source": [
        "a.ndim"
      ]
    },
    {
      "cell_type": "markdown",
      "metadata": {
        "id": "0rvVdaOODv91"
      },
      "source": [
        "#### 1.3 「行列のデータ型を確認してください。」"
      ]
    },
    {
      "cell_type": "code",
      "execution_count": 7,
      "metadata": {
        "colab": {
          "base_uri": "https://localhost:8080/"
        },
        "id": "dD36FPwyDv91",
        "outputId": "4c2a555f-c041-4e48-cd0f-019bfd8de7b5"
      },
      "outputs": [
        {
          "output_type": "execute_result",
          "data": {
            "text/plain": [
              "numpy.ndarray"
            ]
          },
          "metadata": {},
          "execution_count": 7
        }
      ],
      "source": [
        "type(a)"
      ]
    },
    {
      "cell_type": "markdown",
      "metadata": {
        "id": "Cq5KFe1zDv91"
      },
      "source": [
        "#### 1.4 「行列の配列要素を確認してください。」"
      ]
    },
    {
      "cell_type": "code",
      "execution_count": 8,
      "metadata": {
        "colab": {
          "base_uri": "https://localhost:8080/"
        },
        "id": "wgCbRDaGDv92",
        "outputId": "e36d1b2c-bb65-430b-d81c-0c5555c0007e"
      },
      "outputs": [
        {
          "output_type": "execute_result",
          "data": {
            "text/plain": [
              "dtype('int64')"
            ]
          },
          "metadata": {},
          "execution_count": 8
        }
      ],
      "source": [
        "a.dtype"
      ]
    },
    {
      "cell_type": "markdown",
      "metadata": {
        "id": "SXaCTH9UDv92"
      },
      "source": [
        "### 2. 配列について学習します。（4問）"
      ]
    },
    {
      "cell_type": "markdown",
      "metadata": {
        "id": "KJXDx3tmDv92"
      },
      "source": [
        "#### 2.1 「8つの「0」が入る配列を作成してください。」"
      ]
    },
    {
      "cell_type": "code",
      "execution_count": 9,
      "metadata": {
        "colab": {
          "base_uri": "https://localhost:8080/"
        },
        "id": "_1J4nMSBDv92",
        "outputId": "39d19c72-7cef-4b33-ae4f-c21a30a8dc94"
      },
      "outputs": [
        {
          "output_type": "stream",
          "name": "stdout",
          "text": [
            "[0. 0. 0. 0. 0. 0. 0. 0.]\n"
          ]
        }
      ],
      "source": [
        "data = np.zeros(8)\n",
        "print(data)"
      ]
    },
    {
      "cell_type": "markdown",
      "metadata": {
        "id": "6JAd0gRTDv92"
      },
      "source": [
        "#### 2.2 「8つの「0」が入る配列を作成し、5番目の値を「1」に変えてください。」"
      ]
    },
    {
      "cell_type": "code",
      "execution_count": 10,
      "metadata": {
        "colab": {
          "base_uri": "https://localhost:8080/"
        },
        "id": "mVsgV_8QDv93",
        "outputId": "ce2691a5-2d54-4d45-edf6-53d4af2edccc"
      },
      "outputs": [
        {
          "output_type": "stream",
          "name": "stdout",
          "text": [
            "[0. 0. 0. 0. 1. 0. 0. 0.]\n"
          ]
        }
      ],
      "source": [
        "data = np.zeros(8)\n",
        "data[4] = 1\n",
        "print(data)"
      ]
    },
    {
      "cell_type": "markdown",
      "metadata": {
        "id": "-4DJhSuxDv93"
      },
      "source": [
        "#### 2.3 「10～49までの数字が昇順で入った配列を作成してください。」"
      ]
    },
    {
      "cell_type": "code",
      "execution_count": 11,
      "metadata": {
        "colab": {
          "base_uri": "https://localhost:8080/"
        },
        "id": "P23gQTaFDv93",
        "outputId": "144f2fc2-a672-4cda-b573-5d26c37d83fa"
      },
      "outputs": [
        {
          "output_type": "stream",
          "name": "stdout",
          "text": [
            "[10 11 12 13 14 15 16 17 18 19 20 21 22 23 24 25 26 27 28 29 30 31 32 33\n",
            " 34 35 36 37 38 39 40 41 42 43 44 45 46 47 48 49]\n"
          ]
        }
      ],
      "source": [
        "data = np.arange(10,50)\n",
        "print(data)"
      ]
    },
    {
      "cell_type": "markdown",
      "metadata": {
        "id": "tgOYvN97Dv93"
      },
      "source": [
        "#### 2.4 「0～39までの数字が降順で入った配列を作成してください。」"
      ]
    },
    {
      "cell_type": "code",
      "execution_count": 12,
      "metadata": {
        "colab": {
          "base_uri": "https://localhost:8080/"
        },
        "id": "ypwA4ZGhDv93",
        "outputId": "1fcfff02-c521-4beb-8837-8c11e08cd6ba"
      },
      "outputs": [
        {
          "output_type": "stream",
          "name": "stdout",
          "text": [
            "[39 38 37 36 35 34 33 32 31 30 29 28 27 26 25 24 23 22 21 20 19 18 17 16\n",
            " 15 14 13 12 11 10  9  8  7  6  5  4  3  2  1  0]\n"
          ]
        }
      ],
      "source": [
        "data = np.arange(40)\n",
        "data = data[::-1]\n",
        "print(data)"
      ]
    },
    {
      "cell_type": "markdown",
      "metadata": {
        "id": "-6RTxfsEDv93"
      },
      "source": [
        "### 3. スライスについて学習します。（5問）"
      ]
    },
    {
      "cell_type": "markdown",
      "metadata": {
        "id": "mTGNCIVlDv94"
      },
      "source": [
        "#### 3.1 「0~9までの数字が入った配列を作成してください。」"
      ]
    },
    {
      "cell_type": "code",
      "execution_count": 14,
      "metadata": {
        "colab": {
          "base_uri": "https://localhost:8080/"
        },
        "id": "EycaYDc_Dv94",
        "outputId": "2fb1ecf4-88ef-4439-921a-511aa7a0d0c0"
      },
      "outputs": [
        {
          "output_type": "stream",
          "name": "stdout",
          "text": [
            "[0 1 2 3 4 5 6 7 8 9]\n"
          ]
        }
      ],
      "source": [
        "l = np.arange(10)\n",
        "print(l)"
      ]
    },
    {
      "cell_type": "markdown",
      "metadata": {
        "id": "rtQtBABuDv94"
      },
      "source": [
        "#### 3.2 「スライス（:）を使用して、3.1で作成した配列から下記の配列を取り出して下さい。」"
      ]
    },
    {
      "cell_type": "code",
      "execution_count": 15,
      "metadata": {
        "colab": {
          "base_uri": "https://localhost:8080/"
        },
        "id": "a4ECGAVTDv94",
        "outputId": "ac2bf184-5350-4826-dddf-52487e8f2b21"
      },
      "outputs": [
        {
          "output_type": "stream",
          "name": "stdout",
          "text": [
            "[4 5 6 7]\n"
          ]
        }
      ],
      "source": [
        "print(l[4:8])"
      ]
    },
    {
      "cell_type": "markdown",
      "metadata": {
        "id": "wa3bjDMrDv94"
      },
      "source": [
        "#### 3.3 「スライス（:）を使用して、3.1で作成した配列から「マイナス」を使用して下記の配列を取り出して下さい。」"
      ]
    },
    {
      "cell_type": "code",
      "execution_count": 16,
      "metadata": {
        "colab": {
          "base_uri": "https://localhost:8080/"
        },
        "id": "h1ZSYZv5Dv94",
        "outputId": "bb7498e4-ceec-4049-b459-f46b4042a8cc"
      },
      "outputs": [
        {
          "output_type": "stream",
          "name": "stdout",
          "text": [
            "[3 4 5 6 7]\n"
          ]
        }
      ],
      "source": [
        "print(l[-7:-2])"
      ]
    },
    {
      "cell_type": "markdown",
      "metadata": {
        "id": "qZUdPpoxDv95"
      },
      "source": [
        "#### 3.4 「スライス（:）を使用して、3.1で作成した配列から「マイナス」を使用して下記の配列を取り出して下さい。」"
      ]
    },
    {
      "cell_type": "code",
      "execution_count": 17,
      "metadata": {
        "colab": {
          "base_uri": "https://localhost:8080/"
        },
        "id": "MD-esNsSDv95",
        "outputId": "b091b9d4-c896-40c2-bfc1-ec1f782fc19d"
      },
      "outputs": [
        {
          "output_type": "stream",
          "name": "stdout",
          "text": [
            "[9 8 7 6 5 4 3 2 1 0]\n"
          ]
        }
      ],
      "source": [
        "print(l[::-1])"
      ]
    },
    {
      "cell_type": "markdown",
      "metadata": {
        "id": "clqmXPx5Dv95"
      },
      "source": [
        "#### 3.5 「スライス（:）を使用して、3.1で作成した配列から下記の配列を取り出して下さい。」"
      ]
    },
    {
      "cell_type": "code",
      "execution_count": 18,
      "metadata": {
        "colab": {
          "base_uri": "https://localhost:8080/"
        },
        "id": "1GU5AFxoDv95",
        "outputId": "ee5b5563-b133-44a0-8247-8bc748a798d1"
      },
      "outputs": [
        {
          "output_type": "stream",
          "name": "stdout",
          "text": [
            "[2 4 6]\n"
          ]
        }
      ],
      "source": [
        "print(l[2:8:2])"
      ]
    },
    {
      "cell_type": "markdown",
      "metadata": {
        "id": "GgQgjSd8Dv95"
      },
      "source": [
        "### 4. 行列について学習します（基礎）（6問）"
      ]
    },
    {
      "cell_type": "markdown",
      "metadata": {
        "id": "nntSEr3zDv95"
      },
      "source": [
        "#### 4.1 「0～8までの数字が昇順で入った配列を作成し、3×3の行列を作成してください。」"
      ]
    },
    {
      "cell_type": "code",
      "execution_count": 19,
      "metadata": {
        "colab": {
          "base_uri": "https://localhost:8080/"
        },
        "id": "yl_smbokDv95",
        "outputId": "8fb7f467-d047-497c-f17e-2d89b4333f23"
      },
      "outputs": [
        {
          "output_type": "stream",
          "name": "stdout",
          "text": [
            "[[0 1 2]\n",
            " [3 4 5]\n",
            " [6 7 8]]\n"
          ]
        }
      ],
      "source": [
        "data = np.arange(9).reshape(3,3)\n",
        "print(data)"
      ]
    },
    {
      "cell_type": "markdown",
      "metadata": {
        "id": "zjoQYtCtDv96"
      },
      "source": [
        "#### 4.2 「任意の「0」が入っている配列を作成し、「0」以外が入っているインデックスを取得してください。」"
      ]
    },
    {
      "cell_type": "code",
      "execution_count": 20,
      "metadata": {
        "colab": {
          "base_uri": "https://localhost:8080/"
        },
        "id": "z-m4M6FzDv96",
        "outputId": "b55bebd2-e608-4175-e4b9-1076bdd586b4"
      },
      "outputs": [
        {
          "output_type": "stream",
          "name": "stdout",
          "text": [
            "(array([0, 1, 4]),)\n"
          ]
        }
      ],
      "source": [
        "data = np.nonzero([1,2,0,0,4,0])\n",
        "print(data)"
      ]
    },
    {
      "cell_type": "markdown",
      "metadata": {
        "id": "Eu85cQ2yDv96"
      },
      "source": [
        "#### 4.3 「3×3の正方行列を作成してください。」"
      ]
    },
    {
      "cell_type": "code",
      "execution_count": 21,
      "metadata": {
        "colab": {
          "base_uri": "https://localhost:8080/"
        },
        "id": "otjInxbEDv96",
        "outputId": "4158953e-4d5b-415b-b1f5-739e8f193c4d"
      },
      "outputs": [
        {
          "output_type": "stream",
          "name": "stdout",
          "text": [
            "[[1. 0. 0.]\n",
            " [0. 1. 0.]\n",
            " [0. 0. 1.]]\n"
          ]
        }
      ],
      "source": [
        "data = np.eye(3)\n",
        "print(data)"
      ]
    },
    {
      "cell_type": "markdown",
      "metadata": {
        "id": "g66Kguk0Dv96"
      },
      "source": [
        "#### 4.4 「3×3×3のランダム値を持つ行列を作成してください。」"
      ]
    },
    {
      "cell_type": "code",
      "execution_count": 22,
      "metadata": {
        "colab": {
          "base_uri": "https://localhost:8080/"
        },
        "id": "VMPZgaw2Dv96",
        "outputId": "ce12dfc6-c5a4-449c-fa37-398ae9b4f7f2"
      },
      "outputs": [
        {
          "output_type": "stream",
          "name": "stdout",
          "text": [
            "[[[0.67299902 0.20980154 0.16195867]\n",
            "  [0.15620052 0.61040092 0.63944485]\n",
            "  [0.7235609  0.58909987 0.74872262]]\n",
            "\n",
            " [[0.47663293 0.49480239 0.03268956]\n",
            "  [0.51350254 0.49399209 0.78737934]\n",
            "  [0.19973473 0.88089588 0.43128315]]\n",
            "\n",
            " [[0.43563093 0.37409455 0.991947  ]\n",
            "  [0.31833665 0.88003814 0.30536881]\n",
            "  [0.00129303 0.15254314 0.21662623]]]\n"
          ]
        }
      ],
      "source": [
        "data = np.random.random((3,3,3))\n",
        "print(data)"
      ]
    },
    {
      "cell_type": "markdown",
      "metadata": {
        "id": "PnWJo6eiDv96"
      },
      "source": [
        "#### 4.5 「10×10のランダム値を持つ行列を作成し、最小値と最大値を出力してください。」"
      ]
    },
    {
      "cell_type": "code",
      "execution_count": 23,
      "metadata": {
        "id": "53Bvs7JxDv96",
        "colab": {
          "base_uri": "https://localhost:8080/"
        },
        "outputId": "113c43c5-9869-4de3-f085-a1c3d6f1c60c"
      },
      "outputs": [
        {
          "output_type": "stream",
          "name": "stdout",
          "text": [
            "0.034695075529052044 0.9889362713374736\n"
          ]
        }
      ],
      "source": [
        "data = np.random.random((10, 10))\n",
        "datamin, datamax = data.min(), data.max()\n",
        "print(datamin, datamax)"
      ]
    },
    {
      "cell_type": "markdown",
      "metadata": {
        "id": "5rR2c4_EDv97"
      },
      "source": [
        "#### 4.6 「10×10のランダム値を持つ行列を作成し、平均値を出力してください。」"
      ]
    },
    {
      "cell_type": "code",
      "execution_count": 24,
      "metadata": {
        "id": "PsjqNEXgDv97",
        "colab": {
          "base_uri": "https://localhost:8080/"
        },
        "outputId": "1070feeb-72b5-4a09-b71a-6a3bf0bd8253"
      },
      "outputs": [
        {
          "output_type": "stream",
          "name": "stdout",
          "text": [
            "0.4864564791623803\n"
          ]
        }
      ],
      "source": [
        "data = np.random.random((10, 10))\n",
        "m = data.mean()\n",
        "print(m)"
      ]
    },
    {
      "cell_type": "markdown",
      "metadata": {
        "id": "vV2KHyQ1Dv97"
      },
      "source": [
        "### 5. 行列について学習します（応用）（7問）"
      ]
    },
    {
      "cell_type": "markdown",
      "metadata": {
        "id": "fA2KWGmWDv97"
      },
      "source": [
        "#### 5.1 「10×10の大きさの、外側だけ値が「1」、内側が全て値が「0」の行列を作成してください。」"
      ]
    },
    {
      "cell_type": "code",
      "execution_count": 25,
      "metadata": {
        "id": "byTsjz0cDv97",
        "colab": {
          "base_uri": "https://localhost:8080/"
        },
        "outputId": "11999690-84ed-4710-a383-6f4dbd8dc1d5"
      },
      "outputs": [
        {
          "output_type": "stream",
          "name": "stdout",
          "text": [
            "[[1. 1. 1. 1. 1. 1. 1. 1. 1. 1.]\n",
            " [1. 0. 0. 0. 0. 0. 0. 0. 0. 1.]\n",
            " [1. 0. 0. 0. 0. 0. 0. 0. 0. 1.]\n",
            " [1. 0. 0. 0. 0. 0. 0. 0. 0. 1.]\n",
            " [1. 0. 0. 0. 0. 0. 0. 0. 0. 1.]\n",
            " [1. 0. 0. 0. 0. 0. 0. 0. 0. 1.]\n",
            " [1. 0. 0. 0. 0. 0. 0. 0. 0. 1.]\n",
            " [1. 0. 0. 0. 0. 0. 0. 0. 0. 1.]\n",
            " [1. 0. 0. 0. 0. 0. 0. 0. 0. 1.]\n",
            " [1. 1. 1. 1. 1. 1. 1. 1. 1. 1.]]\n"
          ]
        }
      ],
      "source": [
        "data = np.ones((10, 10))\n",
        "data[1:-1, 1:-1] = 0\n",
        "print(data)"
      ]
    },
    {
      "cell_type": "markdown",
      "metadata": {
        "id": "3JIKNchQDv97"
      },
      "source": [
        "#### 5.2 「10×10の大きさの、外側だけ値が「0」、内側が全て値が「1」の行列を作成してください。」"
      ]
    },
    {
      "cell_type": "code",
      "execution_count": 26,
      "metadata": {
        "id": "f9Ns62-kDv97",
        "colab": {
          "base_uri": "https://localhost:8080/"
        },
        "outputId": "fab7d5b3-6a37-44c5-8688-197adde1f20d"
      },
      "outputs": [
        {
          "output_type": "stream",
          "name": "stdout",
          "text": [
            "[[0. 0. 0. 0. 0. 0. 0. 0. 0. 0.]\n",
            " [0. 1. 1. 1. 1. 1. 1. 1. 1. 0.]\n",
            " [0. 1. 1. 1. 1. 1. 1. 1. 1. 0.]\n",
            " [0. 1. 1. 1. 1. 1. 1. 1. 1. 0.]\n",
            " [0. 1. 1. 1. 1. 1. 1. 1. 1. 0.]\n",
            " [0. 1. 1. 1. 1. 1. 1. 1. 1. 0.]\n",
            " [0. 1. 1. 1. 1. 1. 1. 1. 1. 0.]\n",
            " [0. 1. 1. 1. 1. 1. 1. 1. 1. 0.]\n",
            " [0. 1. 1. 1. 1. 1. 1. 1. 1. 0.]\n",
            " [0. 0. 0. 0. 0. 0. 0. 0. 0. 0.]]\n"
          ]
        }
      ],
      "source": [
        "data = np.ones((8, 8))\n",
        "data = np.pad(data, pad_width=1, mode='constant', constant_values=0)\n",
        "print(data)"
      ]
    },
    {
      "cell_type": "markdown",
      "metadata": {
        "id": "pbQjLIhnDv97"
      },
      "source": [
        "#### 5.3「下記のような4×4の対角行列を作成してください。」"
      ]
    },
    {
      "cell_type": "code",
      "execution_count": 28,
      "metadata": {
        "id": "sdQ1hCShDv98",
        "colab": {
          "base_uri": "https://localhost:8080/"
        },
        "outputId": "0ac8372f-4e04-41be-d419-70a832ba2ec2"
      },
      "outputs": [
        {
          "output_type": "stream",
          "name": "stdout",
          "text": [
            "[[1 0 0 0]\n",
            " [0 2 0 0]\n",
            " [0 0 3 0]\n",
            " [0 0 0 4]]\n"
          ]
        }
      ],
      "source": [
        "data = np.diag(1+np.arange(4), k=0)\n",
        "print(data)"
      ]
    },
    {
      "cell_type": "markdown",
      "metadata": {
        "id": "dMzTJZYyDv98"
      },
      "source": [
        "#### 5.4 「下記のような8×8の行列を作成してください。」"
      ]
    },
    {
      "cell_type": "code",
      "execution_count": 29,
      "metadata": {
        "id": "G-AZrmpFDv98",
        "colab": {
          "base_uri": "https://localhost:8080/"
        },
        "outputId": "bcf8f1ec-d38d-4979-9c57-a471a8c9ebcd"
      },
      "outputs": [
        {
          "output_type": "stream",
          "name": "stdout",
          "text": [
            "[[0 1 0 1 0 1 0 1]\n",
            " [1 0 1 0 1 0 1 0]\n",
            " [0 1 0 1 0 1 0 1]\n",
            " [1 0 1 0 1 0 1 0]\n",
            " [0 1 0 1 0 1 0 1]\n",
            " [1 0 1 0 1 0 1 0]\n",
            " [0 1 0 1 0 1 0 1]\n",
            " [1 0 1 0 1 0 1 0]]\n"
          ]
        }
      ],
      "source": [
        "data = np.zeros((8, 8), dtype=int)\n",
        "data[1::2, ::2] =1\n",
        "data[::2, 1::2] =1\n",
        "print(data)"
      ]
    },
    {
      "cell_type": "markdown",
      "metadata": {
        "id": "McrotfRIDv98"
      },
      "source": [
        "#### 5.5「3×5×2の行列を考えた時に、10番目の要素のインデックスを出力してください。」"
      ]
    },
    {
      "cell_type": "code",
      "execution_count": 30,
      "metadata": {
        "id": "al6QkQ_NDv98",
        "colab": {
          "base_uri": "https://localhost:8080/"
        },
        "outputId": "b732b5b5-d3a1-4922-b120-ea3d95ea3196"
      },
      "outputs": [
        {
          "output_type": "stream",
          "name": "stdout",
          "text": [
            "(1, 0, 0)\n"
          ]
        }
      ],
      "source": [
        "print(np.unravel_index(10, (3, 5, 2)))"
      ]
    },
    {
      "cell_type": "markdown",
      "metadata": {
        "id": "ZMROlDRNDv98"
      },
      "source": [
        "#### 5.6「5×5のランダム値を持つ行列を作成し、行列内の最大値が1、最小値が0になるように正規化してください。」"
      ]
    },
    {
      "cell_type": "code",
      "execution_count": 31,
      "metadata": {
        "id": "ok8SlsSFDv98",
        "colab": {
          "base_uri": "https://localhost:8080/"
        },
        "outputId": "b1efaa62-fcee-4fac-c74b-6e7e52f61e8c"
      },
      "outputs": [
        {
          "output_type": "stream",
          "name": "stdout",
          "text": [
            "[[0.12498308 0.39264953 0.31346741 0.61553459 0.47910906]\n",
            " [0.88581818 0.01931178 0.25058481 0.2595882  0.60769095]\n",
            " [0.00467069 0.2903297  1.         0.81347364 0.39823909]\n",
            " [0.29604409 0.03520637 0.62349903 0.4526983  0.78497095]\n",
            " [0.32720191 0.64959635 0.         0.52942585 0.40852265]]\n"
          ]
        }
      ],
      "source": [
        "data = np.random.random((5, 5))\n",
        "datamax, datamin = data.max(), data.min()\n",
        "data = (data - datamin)/(datamax - datamin)\n",
        "print(data)"
      ]
    },
    {
      "cell_type": "markdown",
      "metadata": {
        "id": "ZHg36x49Dv98"
      },
      "source": [
        "#### 5.7「5×3の値が全て1の行列と3×2の値が全て1の行列の掛け算を行ってください。」"
      ]
    },
    {
      "cell_type": "code",
      "execution_count": 32,
      "metadata": {
        "id": "bvvSJ-yBDv98",
        "colab": {
          "base_uri": "https://localhost:8080/"
        },
        "outputId": "2456b8a5-a559-4db7-c5dc-a05eb928da02"
      },
      "outputs": [
        {
          "output_type": "stream",
          "name": "stdout",
          "text": [
            "[[3. 3.]\n",
            " [3. 3.]\n",
            " [3. 3.]\n",
            " [3. 3.]\n",
            " [3. 3.]]\n"
          ]
        }
      ],
      "source": [
        "data = np.dot(np.ones((5, 3)), np.ones((3, 2)))\n",
        "print(data)"
      ]
    },
    {
      "cell_type": "markdown",
      "metadata": {
        "id": "PcBCWhnVDv99"
      },
      "source": [
        "### 6. numpyでよく使用する機能について学習します。（14問）"
      ]
    },
    {
      "cell_type": "markdown",
      "metadata": {
        "id": "4YKpa8ssDv99"
      },
      "source": [
        "#### 6.1「0～10までの数字を昇順に並べた配列を作成し、4～8までの数字をマイナスに変えて出力してください。」"
      ]
    },
    {
      "cell_type": "code",
      "execution_count": 34,
      "metadata": {
        "id": "OZDP1NQbDv99",
        "colab": {
          "base_uri": "https://localhost:8080/"
        },
        "outputId": "ec843334-2040-4dc2-878a-4f717e48d754"
      },
      "outputs": [
        {
          "output_type": "stream",
          "name": "stdout",
          "text": [
            "[ 0  1  2  3 -4 -5 -6 -7 -8  9 10]\n"
          ]
        }
      ],
      "source": [
        "data = np.arange(11)\n",
        "data[(3 < data) & (data <= 8)] *= -1\n",
        "print(data)"
      ]
    },
    {
      "cell_type": "markdown",
      "metadata": {
        "id": "X43jWE0zDv99"
      },
      "source": [
        "#### 6.2「ランダムな整数値を10個もつ配列を2つ作成し、その2つの配列の共通の値を出力してください。」"
      ]
    },
    {
      "cell_type": "code",
      "execution_count": 35,
      "metadata": {
        "id": "emSdaN-ODv99",
        "colab": {
          "base_uri": "https://localhost:8080/"
        },
        "outputId": "ad36a3c6-381f-421e-d95f-69bce44baef1"
      },
      "outputs": [
        {
          "output_type": "stream",
          "name": "stdout",
          "text": [
            "[0 3 4 6]\n"
          ]
        }
      ],
      "source": [
        "data1 = np.random.randint(0, 10, 10)\n",
        "data2 = np.random.randint(0, 10, 10)\n",
        "print(np.intersect1d(data1, data2))"
      ]
    },
    {
      "cell_type": "markdown",
      "metadata": {
        "id": "DldXboo2Dv99"
      },
      "source": [
        "#### 6.3「虚数を出力してください。」"
      ]
    },
    {
      "cell_type": "code",
      "source": [
        "np.emath.sqrt(-1)"
      ],
      "metadata": {
        "colab": {
          "base_uri": "https://localhost:8080/"
        },
        "id": "0XN9aFRQmihN",
        "outputId": "7e971bb6-0c68-4694-ed1b-575ebbeeeeb1"
      },
      "execution_count": 37,
      "outputs": [
        {
          "output_type": "execute_result",
          "data": {
            "text/plain": [
              "1j"
            ]
          },
          "metadata": {},
          "execution_count": 37
        }
      ]
    },
    {
      "cell_type": "markdown",
      "metadata": {
        "id": "t_e2rh6EDv99"
      },
      "source": [
        "#### 6.4「今日の日付と明後日の日付を出力してください。」"
      ]
    },
    {
      "cell_type": "code",
      "execution_count": 43,
      "metadata": {
        "id": "ZfalN47XDv99",
        "colab": {
          "base_uri": "https://localhost:8080/"
        },
        "outputId": "2c273a06-5506-40d9-a88b-ae6575d3d2ee"
      },
      "outputs": [
        {
          "output_type": "stream",
          "name": "stdout",
          "text": [
            "2023-03-20\n",
            "2023-03-22\n"
          ]
        }
      ],
      "source": [
        "today = np.datetime64('today', 'D')\n",
        "day_after_tomorrow = np.datetime64('today', 'D') + np.timedelta64(2, 'D')\n",
        "print(today)\n",
        "print(day_after_tomorrow)"
      ]
    },
    {
      "cell_type": "markdown",
      "metadata": {
        "id": "6LpBjCazDv9-"
      },
      "source": [
        "#### 6.5「2019年11月の日付を配列として出力してください。」"
      ]
    },
    {
      "cell_type": "code",
      "execution_count": 45,
      "metadata": {
        "id": "PbqNp2umDv9-",
        "colab": {
          "base_uri": "https://localhost:8080/"
        },
        "outputId": "fc13849e-872d-4d6c-8c3e-017847ddfe99"
      },
      "outputs": [
        {
          "output_type": "stream",
          "name": "stdout",
          "text": [
            "['2019-11-01' '2019-11-02' '2019-11-03' '2019-11-04' '2019-11-05'\n",
            " '2019-11-06' '2019-11-07' '2019-11-08' '2019-11-09' '2019-11-10'\n",
            " '2019-11-11' '2019-11-12' '2019-11-13' '2019-11-14' '2019-11-15'\n",
            " '2019-11-16' '2019-11-17' '2019-11-18' '2019-11-19' '2019-11-20'\n",
            " '2019-11-21' '2019-11-22' '2019-11-23' '2019-11-24' '2019-11-25'\n",
            " '2019-11-26' '2019-11-27' '2019-11-28' '2019-11-29' '2019-11-30']\n"
          ]
        }
      ],
      "source": [
        "data = np.arange('2019-11', '2019-12', dtype='datetime64[D]')\n",
        "print(data)"
      ]
    },
    {
      "cell_type": "markdown",
      "metadata": {
        "id": "IbByTE8BDv9-"
      },
      "source": [
        "#### 6.6「ランダムの値を10個持つ配列を作成し、異なる3パターンで整数として出力してください。」"
      ]
    },
    {
      "cell_type": "code",
      "source": [
        "data = np.random.uniform(0, 10, 10)\n",
        "print(data)\n",
        "print(data - data%1)\n",
        "print(np.floor(data))\n",
        "print(np.ceil(data)-1)"
      ],
      "metadata": {
        "colab": {
          "base_uri": "https://localhost:8080/"
        },
        "id": "GA-buWblnxsU",
        "outputId": "15ee2b8e-0fa5-4a3f-a044-c9a4da449179"
      },
      "execution_count": 47,
      "outputs": [
        {
          "output_type": "stream",
          "name": "stdout",
          "text": [
            "[0.18779911 1.11773442 3.76779996 1.91239857 6.22552182 4.20300499\n",
            " 7.72458518 9.38016371 2.9265128  9.15612855]\n",
            "[0. 1. 3. 1. 6. 4. 7. 9. 2. 9.]\n",
            "[0. 1. 3. 1. 6. 4. 7. 9. 2. 9.]\n",
            "[0. 1. 3. 1. 6. 4. 7. 9. 2. 9.]\n"
          ]
        }
      ]
    },
    {
      "cell_type": "markdown",
      "metadata": {
        "id": "tJhZZapbDv9-"
      },
      "source": [
        "#### 6.7「下記のような行列を作成してください。」"
      ]
    },
    {
      "cell_type": "code",
      "execution_count": 48,
      "metadata": {
        "id": "05vbLtMUDv9-",
        "colab": {
          "base_uri": "https://localhost:8080/"
        },
        "outputId": "ed3e6a2a-b374-4712-84c4-ad783da1ed50"
      },
      "outputs": [
        {
          "output_type": "stream",
          "name": "stdout",
          "text": [
            "[[0. 1. 2. 3. 4.]\n",
            " [0. 1. 2. 3. 4.]\n",
            " [0. 1. 2. 3. 4.]\n",
            " [0. 1. 2. 3. 4.]\n",
            " [0. 1. 2. 3. 4.]]\n"
          ]
        }
      ],
      "source": [
        "data = np.zeros((5, 5))\n",
        "data += np.arange(5)\n",
        "print(data)"
      ]
    },
    {
      "cell_type": "markdown",
      "metadata": {
        "id": "pw1f4iJpDv9-"
      },
      "source": [
        "#### 6.8「「0」と「1」は含めず、「0」～「1」の間を10分割した配列を作成してください。」"
      ]
    },
    {
      "cell_type": "code",
      "execution_count": 49,
      "metadata": {
        "id": "QSGA_R9pDv9-",
        "colab": {
          "base_uri": "https://localhost:8080/"
        },
        "outputId": "c507ae45-696d-4f09-f6b5-477e51c00b74"
      },
      "outputs": [
        {
          "output_type": "stream",
          "name": "stdout",
          "text": [
            "[0.09090909 0.18181818 0.27272727 0.36363636 0.45454545 0.54545455\n",
            " 0.63636364 0.72727273 0.81818182 0.90909091]\n"
          ]
        }
      ],
      "source": [
        "data = np.linspace(0, 1, 11, endpoint=False)[1:]\n",
        "print(data)"
      ]
    },
    {
      "cell_type": "markdown",
      "metadata": {
        "id": "DgM7DZfWDv9_"
      },
      "source": [
        "#### 6.9「10のランダム値を持つ配列を作成し、値を昇順にして出力してください。」"
      ]
    },
    {
      "cell_type": "code",
      "execution_count": 50,
      "metadata": {
        "id": "tTFKB4AmDv9_",
        "colab": {
          "base_uri": "https://localhost:8080/"
        },
        "outputId": "288eb721-faec-4375-8b42-c75331922f81"
      },
      "outputs": [
        {
          "output_type": "stream",
          "name": "stdout",
          "text": [
            "[0.05874075 0.09154571 0.12463764 0.31553895 0.57375898 0.63410591\n",
            " 0.66498875 0.75849382 0.89357641 0.93602838]\n"
          ]
        }
      ],
      "source": [
        "data = np.random.random(10)\n",
        "data.sort()\n",
        "print(data)"
      ]
    },
    {
      "cell_type": "markdown",
      "metadata": {
        "id": "It63O2R6Dv9_"
      },
      "source": [
        "#### 6.10「10のランダム値を持つ配列を作成し、MAX値に「0」を置き換えて出力してください。」"
      ]
    },
    {
      "cell_type": "code",
      "source": [
        "data = np.random.random(10)\n",
        "data[data.argmax()] = 0\n",
        "print(data)"
      ],
      "metadata": {
        "colab": {
          "base_uri": "https://localhost:8080/"
        },
        "id": "1_4Jy1uIoie1",
        "outputId": "755ba4f5-be7e-4b5f-8f51-e0f3660e17e2"
      },
      "execution_count": 51,
      "outputs": [
        {
          "output_type": "stream",
          "name": "stdout",
          "text": [
            "[0.         0.48008708 0.45655962 0.09390274 0.01770962 0.61696329\n",
            " 0.91329648 0.39018365 0.14188945 0.82889098]\n"
          ]
        }
      ]
    },
    {
      "cell_type": "markdown",
      "metadata": {
        "id": "TAGKtrjJDv9_"
      },
      "source": [
        "#### 6.11「下記のような値が軸単位で昇順になっている行列を作成してください。」"
      ]
    },
    {
      "cell_type": "code",
      "execution_count": 52,
      "metadata": {
        "id": "zJ83YY4GDv9_",
        "colab": {
          "base_uri": "https://localhost:8080/"
        },
        "outputId": "c3eded2d-4e0d-4142-efce-e93c01b5950a"
      },
      "outputs": [
        {
          "output_type": "stream",
          "name": "stdout",
          "text": [
            "[[(0.  , 0.  ) (0.25, 0.  ) (0.5 , 0.  ) (0.75, 0.  ) (1.  , 0.  )]\n",
            " [(0.  , 0.25) (0.25, 0.25) (0.5 , 0.25) (0.75, 0.25) (1.  , 0.25)]\n",
            " [(0.  , 0.5 ) (0.25, 0.5 ) (0.5 , 0.5 ) (0.75, 0.5 ) (1.  , 0.5 )]\n",
            " [(0.  , 0.75) (0.25, 0.75) (0.5 , 0.75) (0.75, 0.75) (1.  , 0.75)]\n",
            " [(0.  , 1.  ) (0.25, 1.  ) (0.5 , 1.  ) (0.75, 1.  ) (1.  , 1.  )]]\n"
          ]
        }
      ],
      "source": [
        "data = np.zeros((5, 5), [('x', float), ('y', float)])\n",
        "data['x'], data['y'] = np.meshgrid(np.linspace(0, 1, 5),\n",
        "                                   np.linspace(0, 1, 5))\n",
        "print(data)"
      ]
    },
    {
      "cell_type": "markdown",
      "metadata": {
        "id": "1uC_8BdUDv9_"
      },
      "source": [
        "#### 6.12「3×3の値が昇順になっている行列を作成し、インデックスと値を出力してください。」"
      ]
    },
    {
      "cell_type": "code",
      "source": [
        "data = np.arange(9).reshape(3, 3)\n",
        "for index, value in np.ndenumerate(data):\n",
        "  print(index, value)"
      ],
      "metadata": {
        "colab": {
          "base_uri": "https://localhost:8080/"
        },
        "id": "LSwDYQjDpI0e",
        "outputId": "b68e6763-b85f-4dd7-d126-38ddef4412b3"
      },
      "execution_count": 53,
      "outputs": [
        {
          "output_type": "stream",
          "name": "stdout",
          "text": [
            "(0, 0) 0\n",
            "(0, 1) 1\n",
            "(0, 2) 2\n",
            "(1, 0) 3\n",
            "(1, 1) 4\n",
            "(1, 2) 5\n",
            "(2, 0) 6\n",
            "(2, 1) 7\n",
            "(2, 2) 8\n"
          ]
        }
      ]
    },
    {
      "cell_type": "markdown",
      "metadata": {
        "id": "XXplnAxbDv-A"
      },
      "source": [
        "#### 6.13「10×10の「0」行列を作成し、ランダムで20個「1」に変更してください。」"
      ]
    },
    {
      "cell_type": "code",
      "execution_count": 56,
      "metadata": {
        "id": "XwtppSW9Dv-A",
        "colab": {
          "base_uri": "https://localhost:8080/"
        },
        "outputId": "4a3371da-78da-4863-cabb-895bbc86bb2f"
      },
      "outputs": [
        {
          "output_type": "stream",
          "name": "stdout",
          "text": [
            "[[0. 0. 0. 0. 0. 0. 0. 1. 0. 1.]\n",
            " [0. 1. 1. 0. 0. 0. 1. 0. 1. 1.]\n",
            " [1. 1. 0. 0. 1. 0. 0. 0. 0. 0.]\n",
            " [0. 0. 0. 1. 0. 0. 0. 0. 0. 0.]\n",
            " [1. 0. 0. 1. 1. 0. 0. 0. 0. 0.]\n",
            " [0. 0. 0. 0. 0. 0. 0. 0. 0. 1.]\n",
            " [0. 0. 0. 0. 0. 0. 0. 0. 0. 0.]\n",
            " [0. 0. 0. 0. 0. 0. 0. 0. 0. 0.]\n",
            " [0. 0. 0. 0. 0. 0. 0. 0. 1. 0.]\n",
            " [1. 0. 1. 0. 0. 0. 1. 0. 1. 0.]]\n"
          ]
        }
      ],
      "source": [
        "n = 10\n",
        "p = 20\n",
        "data = np.zeros((n, n))\n",
        "np.put(data, np.random.choice(range(n*n), p, replace=False), 1)\n",
        "print(data)"
      ]
    },
    {
      "cell_type": "markdown",
      "metadata": {
        "id": "1x77Ib2GDv-A"
      },
      "source": [
        "#### 6.14「100の整数のランダム要素を持つ配列を作成し、その頻度を出力してください。」"
      ]
    },
    {
      "cell_type": "code",
      "execution_count": 57,
      "metadata": {
        "colab": {
          "base_uri": "https://localhost:8080/"
        },
        "id": "micOgIkBDv-A",
        "outputId": "eeb7755f-082c-4f65-f2fd-e433e33da861"
      },
      "outputs": [
        {
          "output_type": "stream",
          "name": "stdout",
          "text": [
            "[1 0 2 0 2 1 2 2 0 1 0 0 1 1 0 1 1 2 1 1 1 3 2 0 1 1 3 2 2 0 2 1 2 4 1 0 1\n",
            " 2 0 0 1 3 0 1 2 0 1 1 0 0 2 1 0 0 4 1 0 2 0 0 1 0 0 0 0 1 0 1 1 0 1 3 0 2\n",
            " 0 2 0 1 2 0 1 1 0 1 0 0 2 0 0 2 0 2 3 2 2 0 0 0 2 1]\n"
          ]
        }
      ],
      "source": [
        "data = np.random.randint(0,100,100)\n",
        "F = np.bincount(data)\n",
        "print(F)"
      ]
    }
  ],
  "metadata": {
    "kernelspec": {
      "display_name": "Python 3",
      "language": "python",
      "name": "python3"
    },
    "language_info": {
      "codemirror_mode": {
        "name": "ipython",
        "version": 3
      },
      "file_extension": ".py",
      "mimetype": "text/x-python",
      "name": "python",
      "nbconvert_exporter": "python",
      "pygments_lexer": "ipython3",
      "version": "3.7.6"
    },
    "colab": {
      "provenance": [],
      "include_colab_link": true
    }
  },
  "nbformat": 4,
  "nbformat_minor": 0
}